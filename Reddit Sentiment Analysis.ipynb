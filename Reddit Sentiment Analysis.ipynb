{
 "cells": [
  {
   "cell_type": "code",
   "execution_count": 1,
   "metadata": {},
   "outputs": [
    {
     "name": "stderr",
     "output_type": "stream",
     "text": [
      "[nltk_data] Downloading package punkt to\n",
      "[nltk_data]     C:\\Users\\AG\\AppData\\Roaming\\nltk_data...\n",
      "[nltk_data]   Package punkt is already up-to-date!\n"
     ]
    }
   ],
   "source": [
    "import numpy as np # linear algebra\n",
    "import pandas as pd # data processing, CSV file I/O (e.g. pd.read_csv)\n",
    "import re\n",
    "import string\n",
    "import nltk\n",
    "import matplotlib.pyplot as plt\n",
    "import seaborn as sns\n",
    "\n",
    "from nltk import word_tokenize\n",
    "from nltk.corpus import stopwords\n",
    "from nltk.stem import PorterStemmer\n",
    "from nltk.tokenize import TweetTokenizer\n",
    "\n",
    "from nltk.sentiment.vader import SentimentIntensityAnalyzer as SIA\n",
    "nltk.download('punkt')\n",
    "\n",
    "import warnings\n",
    "warnings.filterwarnings(\"ignore\")"
   ]
  },
  {
   "cell_type": "code",
   "execution_count": 2,
   "metadata": {},
   "outputs": [],
   "source": [
    "r_data = pd.read_csv(\"reddit_wsb.csv\")"
   ]
  },
  {
   "cell_type": "code",
   "execution_count": 3,
   "metadata": {},
   "outputs": [],
   "source": [
    "title_data = r_data[['title','timestamp']].copy()\n",
    "body_data = r_data[['body','timestamp']].copy()\n",
    "body_data = body_data.dropna()\n",
    "title_data = title_data.dropna()\n",
    "\n",
    "\n",
    "title_data.title = title_data.title.str.lower()\n",
    "body_data.body = body_data.body.str.lower()\n",
    "\n",
    "#Remove handlers\n",
    "title_data.title = title_data.title.apply(lambda x:re.sub('@[^\\s]+','',x))\n",
    "body_data.body   = body_data.body.apply(lambda x:re.sub('@[^\\s]+','',x))\n",
    "\n",
    "# Remove URLS\n",
    "title_data.title = title_data.title.apply(lambda x:re.sub(r\"http\\S+\", \"\", x))\n",
    "body_data.body   = body_data.body.apply(lambda x:re.sub(r\"http\\S+\", \"\", x))\n",
    "\n",
    "# Remove all the special characters\n",
    "title_data.title = title_data.title.apply(lambda x:' '.join(re.findall(r'\\w+', x)))\n",
    "body_data.body   = body_data.body.apply(lambda x:' '.join(re.findall(r'\\w+', x)))\n",
    "\n",
    "#remove all single characters\n",
    "title_data.title = title_data.title.apply(lambda x:re.sub(r'\\s+[a-zA-Z]\\s+', '', x))\n",
    "body_data.body   = body_data.body.apply(lambda x:re.sub(r'\\s+[a-zA-Z]\\s+', '', x))\n",
    "\n",
    "# Substituting multiple spaces with single space\n",
    "title_data.title = title_data.title.apply(lambda x:re.sub(r'\\s+', ' ', x, flags=re.I))\n",
    "body_data.body   = body_data.body.apply(lambda x:re.sub(r'\\s+', ' ', x, flags=re.I))\n",
    "\n",
    "#Remove Time From Timestamp\n",
    "title_data.timestamp = pd.to_datetime(title_data.timestamp).dt.date\n",
    "body_data.timestamp = pd.to_datetime(body_data.timestamp).dt.date"
   ]
  },
  {
   "cell_type": "code",
   "execution_count": 4,
   "metadata": {},
   "outputs": [],
   "source": [
    "sid = SIA()\n",
    "# body_data['sentiments']           = body_data['body'].apply(lambda x: sid.polarity_scores(' '.join(re.findall(r'\\w+',x.lower()))))\n",
    "# body_data['Positive Sentiment']   = body_data['sentiments'].apply(lambda x: x['pos']+1*(10**-6)) \n",
    "# body_data['Neutral Sentiment']    = body_data['sentiments'].apply(lambda x: x['neu']+1*(10**-6))\n",
    "# body_data['Negative Sentiment']   = body_data['sentiments'].apply(lambda x: x['neg']+1*(10**-6))\n",
    "\n",
    "# body_data.drop(columns=['sentiments'],inplace=True)\n",
    "\n",
    "\n",
    "title_data['sentiments']           = title_data['title'].apply(lambda x: sid.polarity_scores(' '.join(re.findall(r'\\w+',x.lower()))))\n",
    "title_data['Positive Sentiment']   = title_data['sentiments'].apply(lambda x: x['pos']+1*(10**-6)) \n",
    "title_data['Neutral Sentiment']    = title_data['sentiments'].apply(lambda x: x['neu']+1*(10**-6))\n",
    "title_data['Negative Sentiment']   = title_data['sentiments'].apply(lambda x: x['neg']+1*(10**-6))\n",
    "\n",
    "title_data.drop(columns=['sentiments'],inplace=True)"
   ]
  },
  {
   "cell_type": "code",
   "execution_count": 5,
   "metadata": {},
   "outputs": [
    {
     "data": {
      "text/html": [
       "<div>\n",
       "<style scoped>\n",
       "    .dataframe tbody tr th:only-of-type {\n",
       "        vertical-align: middle;\n",
       "    }\n",
       "\n",
       "    .dataframe tbody tr th {\n",
       "        vertical-align: top;\n",
       "    }\n",
       "\n",
       "    .dataframe thead th {\n",
       "        text-align: right;\n",
       "    }\n",
       "</style>\n",
       "<table border=\"1\" class=\"dataframe\">\n",
       "  <thead>\n",
       "    <tr style=\"text-align: right;\">\n",
       "      <th></th>\n",
       "      <th>title</th>\n",
       "      <th>timestamp</th>\n",
       "      <th>Positive Sentiment</th>\n",
       "      <th>Neutral Sentiment</th>\n",
       "      <th>Negative Sentiment</th>\n",
       "    </tr>\n",
       "  </thead>\n",
       "  <tbody>\n",
       "    <tr>\n",
       "      <th>0</th>\n",
       "      <td>itnot about the money itabout sendingmessage</td>\n",
       "      <td>2021-01-28</td>\n",
       "      <td>0.000001</td>\n",
       "      <td>1.000001</td>\n",
       "      <td>0.000001</td>\n",
       "    </tr>\n",
       "    <tr>\n",
       "      <th>1</th>\n",
       "      <td>math professor scott steiner says the numbers ...</td>\n",
       "      <td>2021-01-28</td>\n",
       "      <td>0.000001</td>\n",
       "      <td>0.728001</td>\n",
       "      <td>0.272001</td>\n",
       "    </tr>\n",
       "    <tr>\n",
       "      <th>2</th>\n",
       "      <td>exit the system</td>\n",
       "      <td>2021-01-28</td>\n",
       "      <td>0.000001</td>\n",
       "      <td>1.000001</td>\n",
       "      <td>0.000001</td>\n",
       "    </tr>\n",
       "    <tr>\n",
       "      <th>3</th>\n",
       "      <td>new sec filing for gme can someone less retard...</td>\n",
       "      <td>2021-01-28</td>\n",
       "      <td>0.138001</td>\n",
       "      <td>0.658001</td>\n",
       "      <td>0.204001</td>\n",
       "    </tr>\n",
       "    <tr>\n",
       "      <th>4</th>\n",
       "      <td>not to distract from gme just thought our amc ...</td>\n",
       "      <td>2021-01-28</td>\n",
       "      <td>0.119001</td>\n",
       "      <td>0.881001</td>\n",
       "      <td>0.000001</td>\n",
       "    </tr>\n",
       "  </tbody>\n",
       "</table>\n",
       "</div>"
      ],
      "text/plain": [
       "                                               title   timestamp  \\\n",
       "0       itnot about the money itabout sendingmessage  2021-01-28   \n",
       "1  math professor scott steiner says the numbers ...  2021-01-28   \n",
       "2                                    exit the system  2021-01-28   \n",
       "3  new sec filing for gme can someone less retard...  2021-01-28   \n",
       "4  not to distract from gme just thought our amc ...  2021-01-28   \n",
       "\n",
       "   Positive Sentiment  Neutral Sentiment  Negative Sentiment  \n",
       "0            0.000001           1.000001            0.000001  \n",
       "1            0.000001           0.728001            0.272001  \n",
       "2            0.000001           1.000001            0.000001  \n",
       "3            0.138001           0.658001            0.204001  \n",
       "4            0.119001           0.881001            0.000001  "
      ]
     },
     "execution_count": 5,
     "metadata": {},
     "output_type": "execute_result"
    }
   ],
   "source": [
    "title_data.head()"
   ]
  },
  {
   "cell_type": "code",
   "execution_count": 6,
   "metadata": {
    "scrolled": false
   },
   "outputs": [],
   "source": [
    "# creating class from sentiment values\n",
    "title_data['class_name'] = title_data[['Positive Sentiment', 'Neutral Sentiment', 'Negative Sentiment']].idxmax(axis=1)"
   ]
  },
  {
   "cell_type": "code",
   "execution_count": 7,
   "metadata": {},
   "outputs": [
    {
     "data": {
      "text/html": [
       "<div>\n",
       "<style scoped>\n",
       "    .dataframe tbody tr th:only-of-type {\n",
       "        vertical-align: middle;\n",
       "    }\n",
       "\n",
       "    .dataframe tbody tr th {\n",
       "        vertical-align: top;\n",
       "    }\n",
       "\n",
       "    .dataframe thead th {\n",
       "        text-align: right;\n",
       "    }\n",
       "</style>\n",
       "<table border=\"1\" class=\"dataframe\">\n",
       "  <thead>\n",
       "    <tr style=\"text-align: right;\">\n",
       "      <th></th>\n",
       "      <th>title</th>\n",
       "      <th>timestamp</th>\n",
       "      <th>Positive Sentiment</th>\n",
       "      <th>Neutral Sentiment</th>\n",
       "      <th>Negative Sentiment</th>\n",
       "      <th>class_name</th>\n",
       "    </tr>\n",
       "  </thead>\n",
       "  <tbody>\n",
       "    <tr>\n",
       "      <th>0</th>\n",
       "      <td>i love you retards</td>\n",
       "      <td>2021-01-28</td>\n",
       "      <td>0.677001</td>\n",
       "      <td>0.323001</td>\n",
       "      <td>0.000001</td>\n",
       "      <td>Positive Sentiment</td>\n",
       "    </tr>\n",
       "    <tr>\n",
       "      <th>1</th>\n",
       "      <td>the wallstreetbets war museum</td>\n",
       "      <td>2021-01-28</td>\n",
       "      <td>0.000001</td>\n",
       "      <td>0.435001</td>\n",
       "      <td>0.565001</td>\n",
       "      <td>Negative Sentiment</td>\n",
       "    </tr>\n",
       "    <tr>\n",
       "      <th>2</th>\n",
       "      <td>this took me longer thand like to admit enjoy ...</td>\n",
       "      <td>2021-01-28</td>\n",
       "      <td>0.517001</td>\n",
       "      <td>0.483001</td>\n",
       "      <td>0.000001</td>\n",
       "      <td>Positive Sentiment</td>\n",
       "    </tr>\n",
       "    <tr>\n",
       "      <th>3</th>\n",
       "      <td>most recent short interest</td>\n",
       "      <td>2021-01-28</td>\n",
       "      <td>0.521001</td>\n",
       "      <td>0.479001</td>\n",
       "      <td>0.000001</td>\n",
       "      <td>Positive Sentiment</td>\n",
       "    </tr>\n",
       "    <tr>\n",
       "      <th>4</th>\n",
       "      <td>charitably minded autists</td>\n",
       "      <td>2021-01-28</td>\n",
       "      <td>0.545001</td>\n",
       "      <td>0.455001</td>\n",
       "      <td>0.000001</td>\n",
       "      <td>Positive Sentiment</td>\n",
       "    </tr>\n",
       "  </tbody>\n",
       "</table>\n",
       "</div>"
      ],
      "text/plain": [
       "                                               title   timestamp  \\\n",
       "0                                 i love you retards  2021-01-28   \n",
       "1                      the wallstreetbets war museum  2021-01-28   \n",
       "2  this took me longer thand like to admit enjoy ...  2021-01-28   \n",
       "3                         most recent short interest  2021-01-28   \n",
       "4                          charitably minded autists  2021-01-28   \n",
       "\n",
       "   Positive Sentiment  Neutral Sentiment  Negative Sentiment  \\\n",
       "0            0.677001           0.323001            0.000001   \n",
       "1            0.000001           0.435001            0.565001   \n",
       "2            0.517001           0.483001            0.000001   \n",
       "3            0.521001           0.479001            0.000001   \n",
       "4            0.545001           0.455001            0.000001   \n",
       "\n",
       "           class_name  \n",
       "0  Positive Sentiment  \n",
       "1  Negative Sentiment  \n",
       "2  Positive Sentiment  \n",
       "3  Positive Sentiment  \n",
       "4  Positive Sentiment  "
      ]
     },
     "execution_count": 7,
     "metadata": {},
     "output_type": "execute_result"
    }
   ],
   "source": [
    "# removing neutral class from reducing bias\n",
    "data = title_data[title_data['class_name'] != 'Neutral Sentiment']\n",
    "data.reset_index(drop=True, inplace=True)\n",
    "data.head(5)"
   ]
  },
  {
   "cell_type": "code",
   "execution_count": 8,
   "metadata": {},
   "outputs": [
    {
     "name": "stdout",
     "output_type": "stream",
     "text": [
      "There are 1196 negative sentences\n",
      "There are 1456 positive sentences\n"
     ]
    }
   ],
   "source": [
    "# total number of positive and negative sentiments\n",
    "l = len(data[data['class_name'] == 'Negative Sentiment'])\n",
    "print(f\"There are {l} negative sentences\")\n",
    "\n",
    "m = len(data[data['class_name'] == 'Positive Sentiment'])\n",
    "print(f\"There are {m} positive sentences\")"
   ]
  },
  {
   "cell_type": "code",
   "execution_count": 9,
   "metadata": {
    "scrolled": true
   },
   "outputs": [],
   "source": [
    "# replacing negative and positive sentiment in class with '0' and '1'\n",
    "data['class_name'][data['class_name'] == 'Negative Sentiment'] = 0\n",
    "data['class_name'][data['class_name'] == 'Positive Sentiment'] = 1\n",
    "\n",
    "data.rename(columns={'class_name':'class'}, inplace=True)"
   ]
  },
  {
   "cell_type": "code",
   "execution_count": 10,
   "metadata": {},
   "outputs": [
    {
     "data": {
      "text/plain": [
       "Text(0, 0.5, 'Negative')"
      ]
     },
     "execution_count": 10,
     "metadata": {},
     "output_type": "execute_result"
    },
    {
     "data": {
      "image/png": "[encoded data removed]",
      "text/plain": [
       "<Figure size 576x576 with 1 Axes>"
      ]
     },
     "metadata": {
      "needs_background": "light"
     },
     "output_type": "display_data"
    }
   ],
   "source": [
    "X = data[['Positive Sentiment', 'Negative Sentiment']].values\n",
    "Y = data['class'].values;\n",
    "\n",
    "fig, ax = plt.subplots(figsize = (8, 8))\n",
    "\n",
    "colors = ['red' , 'green']\n",
    "\n",
    "# Color based on the sentiment Y\n",
    "ax.scatter(X[:,0], X[:,1], c=[colors[int(k)] for k in Y], s=0.1)\n",
    "plt.xlabel(\"Positive\")\n",
    "plt.ylabel(\"Negative\")\n",
    "\n",
    "# Graph shows that the positive and negative sentiments are majorly separated so theaccuracy should be high"
   ]
  },
  {
   "cell_type": "code",
   "execution_count": 11,
   "metadata": {
    "scrolled": true
   },
   "outputs": [
    {
     "data": {
      "text/html": [
       "<div>\n",
       "<style scoped>\n",
       "    .dataframe tbody tr th:only-of-type {\n",
       "        vertical-align: middle;\n",
       "    }\n",
       "\n",
       "    .dataframe tbody tr th {\n",
       "        vertical-align: top;\n",
       "    }\n",
       "\n",
       "    .dataframe thead th {\n",
       "        text-align: right;\n",
       "    }\n",
       "</style>\n",
       "<table border=\"1\" class=\"dataframe\">\n",
       "  <thead>\n",
       "    <tr style=\"text-align: right;\">\n",
       "      <th></th>\n",
       "      <th>title</th>\n",
       "      <th>class</th>\n",
       "    </tr>\n",
       "  </thead>\n",
       "  <tbody>\n",
       "    <tr>\n",
       "      <th>0</th>\n",
       "      <td>i love you retards</td>\n",
       "      <td>1</td>\n",
       "    </tr>\n",
       "    <tr>\n",
       "      <th>1</th>\n",
       "      <td>the wallstreetbets war museum</td>\n",
       "      <td>0</td>\n",
       "    </tr>\n",
       "    <tr>\n",
       "      <th>2</th>\n",
       "      <td>this took me longer thand like to admit enjoy ...</td>\n",
       "      <td>1</td>\n",
       "    </tr>\n",
       "    <tr>\n",
       "      <th>3</th>\n",
       "      <td>most recent short interest</td>\n",
       "      <td>1</td>\n",
       "    </tr>\n",
       "    <tr>\n",
       "      <th>4</th>\n",
       "      <td>charitably minded autists</td>\n",
       "      <td>1</td>\n",
       "    </tr>\n",
       "  </tbody>\n",
       "</table>\n",
       "</div>"
      ],
      "text/plain": [
       "                                               title class\n",
       "0                                 i love you retards     1\n",
       "1                      the wallstreetbets war museum     0\n",
       "2  this took me longer thand like to admit enjoy ...     1\n",
       "3                         most recent short interest     1\n",
       "4                          charitably minded autists     1"
      ]
     },
     "execution_count": 11,
     "metadata": {},
     "output_type": "execute_result"
    }
   ],
   "source": [
    "data = data[['title','class']].copy()\n",
    "data.head()"
   ]
  },
  {
   "cell_type": "markdown",
   "metadata": {},
   "source": [
    "## Approach 1 : Sorted classes"
   ]
  },
  {
   "cell_type": "code",
   "execution_count": 12,
   "metadata": {},
   "outputs": [],
   "source": [
    "split_ratio = int(len(data) * 0.8)\n",
    "train_x = data['title'][:split_ratio]\n",
    "test_x = data['title'][split_ratio:]\n",
    "train_y = data['class'][:split_ratio]\n",
    "test_y = data['class'][split_ratio:]"
   ]
  },
  {
   "cell_type": "code",
   "execution_count": 13,
   "metadata": {},
   "outputs": [
    {
     "name": "stdout",
     "output_type": "stream",
     "text": [
      "<class 'pandas.core.series.Series'> <class 'pandas.core.series.Series'> <class 'pandas.core.series.Series'> <class 'pandas.core.series.Series'>\n",
      "<class 'numpy.ndarray'> <class 'pandas.core.series.Series'> <class 'numpy.ndarray'> <class 'pandas.core.series.Series'>\n"
     ]
    }
   ],
   "source": [
    "print(type(train_y),\n",
    "type(train_x),\n",
    "type(test_y),\n",
    "type(test_x))\n",
    "\n",
    "train_y = np.asarray(train_y, dtype='int32')\n",
    "test_y = np.asarray(test_y, dtype='int32')\n",
    "\n",
    "train_y = train_y.reshape(-1, 1)\n",
    "test_y = test_y.reshape(-1,1)\n",
    "\n",
    "print(type(train_y),\n",
    "type(train_x),\n",
    "type(test_y),\n",
    "type(test_x))"
   ]
  },
  {
   "cell_type": "code",
   "execution_count": 14,
   "metadata": {},
   "outputs": [],
   "source": [
    "def preprocess(sentence):\n",
    "    \n",
    "    sentence = sentence.lower()\n",
    "    stemmer = PorterStemmer()\n",
    "    \n",
    "    tokenized = word_tokenize(sentence)\n",
    "    cleaned_list = []\n",
    "    \n",
    "    stopwords_english = stopwords.words('english')\n",
    "    \n",
    "    for word in tokenized:\n",
    "        if (word not in stopwords_english and word not in string.punctuation):\n",
    "            stem_word = stemmer.stem(word)  \n",
    "            cleaned_list.append(stem_word)\n",
    "            \n",
    "    return cleaned_list"
   ]
  },
  {
   "cell_type": "code",
   "execution_count": 15,
   "metadata": {},
   "outputs": [],
   "source": [
    "def build_freqs(sentences, ys):\n",
    "\n",
    "    yslist = np.squeeze(ys).tolist()\n",
    "\n",
    "    freqs = {}\n",
    "    for y, sentence in zip(yslist, sentences):\n",
    "        for word in preprocess(sentence):\n",
    "            pair = (word, y)\n",
    "            if pair in freqs:\n",
    "                freqs[pair] += 1\n",
    "            else:\n",
    "                freqs[pair] = 1\n",
    "\n",
    "    return freqs\n",
    "\n",
    "freqs = build_freqs(train_x, train_y)"
   ]
  },
  {
   "cell_type": "code",
   "execution_count": 16,
   "metadata": {},
   "outputs": [],
   "source": [
    "def sigmoid(z): \n",
    "    return (1 / (1 + np.exp(-z)))"
   ]
  },
  {
   "cell_type": "code",
   "execution_count": 17,
   "metadata": {},
   "outputs": [],
   "source": [
    "def gradientDescent(x, y, theta, alpha, num_iters):\n",
    "\n",
    "    m = len(x)\n",
    "    \n",
    "    for i in range(0, num_iters):\n",
    "        z = np.dot(x, theta)\n",
    "        h = sigmoid(z)\n",
    "        \n",
    "        J = (-1/m) * (np.dot((y.T), np.log(h)) + np.dot((1 - y).T, np.log(1 - h))) \n",
    "        \n",
    "        theta = theta - (alpha/m) * np.dot(x.T, (h - y))\n",
    "        \n",
    "        if i % (num_iters) == 0:\n",
    "            print(i, J)\n",
    "    \n",
    "    J = float(J)\n",
    "    \n",
    "    return J, theta"
   ]
  },
  {
   "cell_type": "code",
   "execution_count": 18,
   "metadata": {},
   "outputs": [],
   "source": [
    "def extract_features(sentence, freqs):\n",
    "\n",
    "    word_l = preprocess(sentence)\n",
    "    x = np.zeros((1, 3)) \n",
    "    \n",
    "    x[0,0] = 1 \n",
    "    \n",
    "    for word in word_l:            \n",
    "        x[0,1] += freqs[(word, 1)] if (word, 1) in freqs else 0\n",
    "        \n",
    "        x[0,2] += freqs[(word, 0)] if (word, 0.0) in freqs else 0 \n",
    "\n",
    "    return x"
   ]
  },
  {
   "cell_type": "code",
   "execution_count": 19,
   "metadata": {
    "scrolled": false
   },
   "outputs": [
    {
     "name": "stdout",
     "output_type": "stream",
     "text": [
      "0 [[0.69314718]]\n",
      "The cost after training is 0.41509890.\n",
      "The resulting vector of weights is [0.00140395, 0.05147941, -0.04059462]\n"
     ]
    }
   ],
   "source": [
    "X = np.zeros((len(train_x), 3))\n",
    "for i in range(len(train_x)):\n",
    "    X[i, :]= extract_features(train_x[i], freqs)\n",
    "\n",
    "Y = train_y\n",
    "\n",
    "J, theta = gradientDescent(X, Y, np.zeros((3, 1)), 1e-5, 15000)\n",
    "\n",
    "print(f\"The cost after training is {J:.8f}.\")\n",
    "\n",
    "print(f\"The resulting vector of weights is {[round(t, 8) for t in np.squeeze(theta)]}\")"
   ]
  },
  {
   "cell_type": "code",
   "execution_count": 20,
   "metadata": {},
   "outputs": [],
   "source": [
    "def predict(sentence, freqs, theta):\n",
    "\n",
    "    x = extract_features(sentence, freqs)\n",
    "\n",
    "    y_pred = sigmoid(np.dot(x, theta))\n",
    "    \n",
    "    return y_pred"
   ]
  },
  {
   "cell_type": "code",
   "execution_count": 21,
   "metadata": {},
   "outputs": [
    {
     "name": "stdout",
     "output_type": "stream",
     "text": [
      "I am happy -> 0.515937\n",
      "very bad -> 0.415280\n",
      "this movie should have been great. -> 0.718881\n",
      "great -> 0.708361\n",
      "great great -> 0.854889\n",
      "great great great -> 0.934595\n",
      "great great great great -> 0.971956\n"
     ]
    }
   ],
   "source": [
    "for text in ['I am happy', 'very bad', 'this movie should have been great.', 'great', 'great great', 'great great great', 'great great great great']:\n",
    "    print( '%s -> %f' % (text, predict(text, freqs, theta)))"
   ]
  },
  {
   "cell_type": "code",
   "execution_count": 22,
   "metadata": {},
   "outputs": [
    {
     "name": "stdout",
     "output_type": "stream",
     "text": [
      "Logistic regression model's accuracy = 0.8776\n"
     ]
    }
   ],
   "source": [
    "def test_logistic_regression(test_x, test_y, freqs, theta):\n",
    "\n",
    "    y_hat = []\n",
    "    \n",
    "    for sentence in test_x:\n",
    "        y_pred = predict(sentence, freqs, theta)\n",
    "        \n",
    "        if y_pred > 0.5:\n",
    "            y_hat.append(1.0)\n",
    "        else:\n",
    "            y_hat.append(0.0)\n",
    "\n",
    "    accuracy = (np.array((y_hat)) == np.squeeze(test_y)).mean()\n",
    "\n",
    "    return accuracy\n",
    "\n",
    "tmp_accuracy = test_logistic_regression(test_x, test_y, freqs, theta)\n",
    "print(f\"Logistic regression model's accuracy = {tmp_accuracy:.4f}\")"
   ]
  },
  {
   "cell_type": "code",
   "execution_count": 23,
   "metadata": {},
   "outputs": [
    {
     "name": "stdout",
     "output_type": "stream",
     "text": [
      "['gamestop', 'suck']\n",
      "[[0.48623569]]\n",
      "Negative sentiment\n"
     ]
    }
   ],
   "source": [
    "title = 'Gamestop sucks'\n",
    "print(preprocess(title))\n",
    "y_hat = predict(title, freqs, theta)\n",
    "print(y_hat)\n",
    "if y_hat > 0.5:\n",
    "    print('Positive sentiment')\n",
    "else: \n",
    "    print('Negative sentiment')"
   ]
  }
 ],
 "metadata": {
  "kernelspec": {
   "display_name": "Python 3",
   "language": "python",
   "name": "python3"
  },
  "language_info": {
   "codemirror_mode": {
    "name": "ipython",
    "version": 3
   },
   "file_extension": ".py",
   "mimetype": "text/x-python",
   "name": "python",
   "nbconvert_exporter": "python",
   "pygments_lexer": "ipython3",
   "version": "3.7.7"
  }
 },
 "nbformat": 4,
 "nbformat_minor": 4
}
